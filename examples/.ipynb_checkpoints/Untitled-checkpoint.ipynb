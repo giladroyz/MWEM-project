{
 "cells": [
  {
   "cell_type": "code",
   "execution_count": 3,
   "metadata": {
    "collapsed": true
   },
   "outputs": [
    {
     "data": {
      "text/plain": [
       "100×10 Array{Int64,2}:\n",
       " 0  0  1  0  1  1  1  0  0  0\n",
       " 0  0  1  1  0  1  0  0  0  0\n",
       " 1  0  0  0  0  1  0  0  1  1\n",
       " 1  1  1  1  0  1  0  0  1  1\n",
       " 1  1  1  1  1  0  1  0  1  1\n",
       " 1  0  0  1  0  0  0  1  0  0\n",
       " 1  0  1  0  0  0  1  1  1  0\n",
       " 1  1  0  0  0  1  1  1  1  1\n",
       " 1  1  1  0  1  0  1  1  0  0\n",
       " 1  1  1  0  0  1  0  1  0  0\n",
       " 0  1  0  1  0  1  0  1  0  0\n",
       " 0  1  1  1  0  0  0  1  0  1\n",
       " 0  1  1  1  1  1  0  0  1  1\n",
       " ⋮              ⋮            \n",
       " 1  1  1  1  1  1  0  0  0  1\n",
       " 0  1  0  1  1  0  0  1  1  0\n",
       " 0  0  0  0  1  1  1  0  1  1\n",
       " 1  1  0  0  0  1  1  1  0  1\n",
       " 0  0  1  1  0  0  1  0  0  0\n",
       " 1  0  1  1  0  0  0  0  0  0\n",
       " 0  1  0  1  0  0  1  1  0  0\n",
       " 1  1  1  1  0  0  1  1  0  1\n",
       " 1  0  1  0  0  1  1  0  1  0\n",
       " 0  0  0  1  1  1  0  0  0  0\n",
       " 0  0  1  1  0  1  1  0  1  0\n",
       " 0  0  0  1  1  0  0  1  1  1"
      ]
     },
     "execution_count": 3,
     "metadata": {},
     "output_type": "execute_result"
    }
   ],
   "source": [
    "d = 10\n",
    "n = 100\n",
    "data_matrix = rand(0:1, n, d)"
   ]
  },
  {
   "cell_type": "code",
   "execution_count": 2,
   "metadata": {},
   "outputs": [
    {
     "data": {
      "text/plain": [
       "PrivateMultiplicativeWeights"
      ]
     },
     "execution_count": 2,
     "metadata": {},
     "output_type": "execute_result"
    }
   ],
   "source": [
    "include(\"../src/PrivateMultiplicativeWeights.jl\")"
   ]
  },
  {
   "cell_type": "code",
   "execution_count": 3,
   "metadata": {},
   "outputs": [],
   "source": [
    "using PrivateMultiplicativeWeights\n",
    "using Distributions\n",
    "using PyPlot"
   ]
  },
  {
   "cell_type": "code",
   "execution_count": 4,
   "metadata": {
    "collapsed": true
   },
   "outputs": [
    {
     "data": {
      "text/plain": [
       "Truncated(Distributions.MixtureModel{Distributions.Univariate,Distributions.Continuous,Distributions.Normal}(\n",
       "components: Distributions.Normal[Distributions.Normal{Float64}(μ=0.275, σ=0.075), Distributions.Normal{Float64}(μ=0.65, σ=0.1)]\n",
       "prior: Distributions.Categorical{Float64}(K=2, p=[0.65, 0.35])\n",
       ")\n",
       ", range=(0.0, 1.0))\n"
      ]
     },
     "execution_count": 4,
     "metadata": {},
     "output_type": "execute_result"
    }
   ],
   "source": [
    "d_continuous = Truncated(MixtureModel(Normal, [(.275, .075), (.65, .1)], [0.65, 0.35]), 0, 1)"
   ]
  },
  {
   "cell_type": "code",
   "execution_count": 5,
   "metadata": {},
   "outputs": [
    {
     "data": {
      "text/plain": [
       "1.0"
      ]
     },
     "execution_count": 5,
     "metadata": {},
     "output_type": "execute_result"
    }
   ],
   "source": [
    "d_continuous.upper"
   ]
  },
  {
   "cell_type": "code",
   "execution_count": 6,
   "metadata": {},
   "outputs": [
    {
     "data": {
      "text/plain": [
       "0.0"
      ]
     },
     "execution_count": 6,
     "metadata": {},
     "output_type": "execute_result"
    }
   ],
   "source": [
    "d_continuous.lower"
   ]
  },
  {
   "cell_type": "code",
   "execution_count": 8,
   "metadata": {
    "collapsed": true
   },
   "outputs": [
    {
     "name": "stderr",
     "output_type": "stream",
     "text": [
      "\u001b[1m\u001b[33mWARNING: \u001b[39m\u001b[22m\u001b[33mpdf(d::UnivariateDistribution, X::AbstractArray) is deprecated, use pdf.(d, X) instead.\u001b[39m\n",
      "Stacktrace:\n",
      " [1] \u001b[1mdepwarn\u001b[22m\u001b[22m\u001b[1m(\u001b[22m\u001b[22m::String, ::Symbol\u001b[1m)\u001b[22m\u001b[22m at \u001b[1m.\\deprecated.jl:70\u001b[22m\u001b[22m\n",
      " [2] \u001b[1mpdf\u001b[22m\u001b[22m\u001b[1m(\u001b[22m\u001b[22m::Distributions.Truncated{Distributions.MixtureModel{Distributions.Univariate,Distributions.Continuous,Distributions.Normal},Distributions.Continuous}, ::StepRangeLen{Float64,Base.TwicePrecision{Float64},Base.TwicePrecision{Float64}}\u001b[1m)\u001b[22m\u001b[22m at \u001b[1m.\\deprecated.jl:57\u001b[22m\u001b[22m\n",
      " [3] \u001b[1minclude_string\u001b[22m\u001b[22m\u001b[1m(\u001b[22m\u001b[22m::String, ::String\u001b[1m)\u001b[22m\u001b[22m at \u001b[1m.\\loading.jl:522\u001b[22m\u001b[22m\n",
      " [4] \u001b[1mexecute_request\u001b[22m\u001b[22m\u001b[1m(\u001b[22m\u001b[22m::ZMQ.Socket, ::IJulia.Msg\u001b[1m)\u001b[22m\u001b[22m at \u001b[1mC:\\Users\\user\\AppData\\Local\\JuliaPro-0.6.3.1\\pkgs-0.6.3.1\\v0.6\\IJulia\\src\\execute_request.jl:158\u001b[22m\u001b[22m\n",
      " [5] \u001b[1m(::Compat.#inner#18{Array{Any,1},IJulia.#execute_request,Tuple{ZMQ.Socket,IJulia.Msg}})\u001b[22m\u001b[22m\u001b[1m(\u001b[22m\u001b[22m\u001b[1m)\u001b[22m\u001b[22m at \u001b[1mC:\\\\\\\\\\\\\\\\\\\\\\\\\\\\\\\\\\\\\\\\\\\\\\\\\\\\\\\\\\\\\\\\\\\\\\\\\\\\\\\\\\\\\\\\\\\\\\\\\\\\\\\\\\\\\\\\Users\\user\\AppData\\Local\\JuliaPro-0.6.3.1\\pkgs-0.6.3.1\\v0.6\\Compat\\src\\Compat.jl:386\u001b[22m\u001b[22m\n",
      " [6] \u001b[1meventloop\u001b[22m\u001b[22m\u001b[1m(\u001b[22m\u001b[22m::ZMQ.Socket\u001b[1m)\u001b[22m\u001b[22m at \u001b[1mC:\\Users\\user\\AppData\\Local\\JuliaPro-0.6.3.1\\pkgs-0.6.3.1\\v0.6\\IJulia\\src\\eventloop.jl:8\u001b[22m\u001b[22m\n",
      " [7] \u001b[1m(::IJulia.##14#17)\u001b[22m\u001b[22m\u001b[1m(\u001b[22m\u001b[22m\u001b[1m)\u001b[22m\u001b[22m at \u001b[1m.\\task.jl:335\u001b[22m\u001b[22m\n",
      "while loading In[8], in expression starting on line 2\n"
     ]
    },
    {
     "data": {
      "text/plain": [
       "1000-element Array{Float64,1}:\n",
       " 0.00416302\n",
       " 0.00437143\n",
       " 0.00458945\n",
       " 0.00481749\n",
       " 0.00505595\n",
       " 0.00530528\n",
       " 0.00556591\n",
       " 0.00583831\n",
       " 0.00612294\n",
       " 0.00642031\n",
       " 0.00673092\n",
       " 0.0070553 \n",
       " 0.007394  \n",
       " ⋮         \n",
       " 0.00446409\n",
       " 0.00431493\n",
       " 0.00417034\n",
       " 0.0040302 \n",
       " 0.00389437\n",
       " 0.00376274\n",
       " 0.0036352 \n",
       " 0.00351163\n",
       " 0.00339192\n",
       " 0.00327596\n",
       " 0.00316365\n",
       " 0.00305488"
      ]
     },
     "execution_count": 8,
     "metadata": {},
     "output_type": "execute_result"
    }
   ],
   "source": [
    "sx = linspace(d_continuous.lower, d_continuous.upper, 1000)\n",
    "sy = pdf(d_continuous, sx)"
   ]
  },
  {
   "cell_type": "code",
   "execution_count": 10,
   "metadata": {
    "collapsed": true
   },
   "outputs": [
    {
     "data": {
      "image/png": "[encoded data removed]",
      "text/plain": [
       "PyPlot.Figure(PyObject <Figure size 640x480 with 1 Axes>)"
      ]
     },
     "metadata": {},
     "output_type": "display_data"
    },
    {
     "data": {
      "text/plain": [
       "1-element Array{PyCall.PyObject,1}:\n",
       " PyObject <matplotlib.lines.Line2D object at 0x000000002363E6D8>"
      ]
     },
     "execution_count": 10,
     "metadata": {},
     "output_type": "execute_result"
    }
   ],
   "source": [
    "plot(sx, sy)"
   ]
  },
  {
   "cell_type": "code",
   "execution_count": 21,
   "metadata": {
    "collapsed": true
   },
   "outputs": [
    {
     "data": {
      "text/plain": [
       "10×2 Array{Float64,2}:\n",
       " 1.0  1.0\n",
       " 1.0  1.0\n",
       " 1.0  1.0\n",
       " 1.0  1.0\n",
       " 1.0  1.0\n",
       " 1.0  1.0\n",
       " 1.0  1.0\n",
       " 1.0  1.0\n",
       " 1.0  1.0\n",
       " 1.0  1.0"
      ]
     },
     "execution_count": 21,
     "metadata": {},
     "output_type": "execute_result"
    }
   ],
   "source": [
    "a = vcat(ones(10))\n",
    "b = vcat(ones(10))\n",
    "\n",
    "c = [a b]\n"
   ]
  },
  {
   "cell_type": "code",
   "execution_count": 41,
   "metadata": {},
   "outputs": [
    {
     "name": "stdout",
     "output_type": "stream",
     "text": [
      "1\n",
      "2\n",
      "3\n",
      "4\n",
      "5\n",
      "6\n",
      "7\n",
      "8\n",
      "9\n",
      "10\n"
     ]
    }
   ],
   "source": [
    "for i = 1:10\n",
    "    temp = a[i]\n",
    "    println(i)\n",
    "end"
   ]
  },
  {
   "cell_type": "code",
   "execution_count": 39,
   "metadata": {},
   "outputs": [
    {
     "data": {
      "image/png": "[encoded data removed]",
      "text/plain": [
       "PyPlot.Figure(PyObject <Figure size 640x480 with 1 Axes>)"
      ]
     },
     "metadata": {},
     "output_type": "display_data"
    },
    {
     "name": "stderr",
     "output_type": "stream",
     "text": [
      "\u001b[1m\u001b[33mWARNING: \u001b[39m\u001b[22m\u001b[33mpdf(d::UnivariateDistribution, X::AbstractArray) is deprecated, use pdf.(d, X) instead.\u001b[39m\n",
      "Stacktrace:\n",
      " [1] \u001b[1mdepwarn\u001b[22m\u001b[22m\u001b[1m(\u001b[22m\u001b[22m::String, ::Symbol\u001b[1m)\u001b[22m\u001b[22m at \u001b[1m.\\deprecated.jl:70\u001b[22m\u001b[22m\n",
      " [2] \u001b[1mpdf\u001b[22m\u001b[22m\u001b[1m(\u001b[22m\u001b[22m::Distributions.Truncated{Distributions.Laplace{Float64},Distributions.Continuous}, ::StepRangeLen{Float64,Base.TwicePrecision{Float64},Base.TwicePrecision{Float64}}\u001b[1m)\u001b[22m\u001b[22m at \u001b[1m.\\deprecated.jl:57\u001b[22m\u001b[22m\n",
      " [3] \u001b[1minclude_string\u001b[22m\u001b[22m\u001b[1m(\u001b[22m\u001b[22m::String, ::String\u001b[1m)\u001b[22m\u001b[22m at \u001b[1m.\\loading.jl:522\u001b[22m\u001b[22m\n",
      " [4] \u001b[1mexecute_request\u001b[22m\u001b[22m\u001b[1m(\u001b[22m\u001b[22m::ZMQ.Socket, ::IJulia.Msg\u001b[1m)\u001b[22m\u001b[22m at \u001b[1mC:\\Users\\user\\AppData\\Local\\JuliaPro-0.6.3.1\\pkgs-0.6.3.1\\v0.6\\IJulia\\src\\execute_request.jl:158\u001b[22m\u001b[22m\n",
      " [5] \u001b[1m(::Compat.#inner#18{Array{Any,1},IJulia.#execute_request,Tuple{ZMQ.Socket,IJulia.Msg}})\u001b[22m\u001b[22m\u001b[1m(\u001b[22m\u001b[22m\u001b[1m)\u001b[22m\u001b[22m at \u001b[1mC:\\\\\\\\\\\\\\\\\\\\\\\\\\\\\\\\\\\\\\\\\\\\\\\\\\\\\\\\\\\\\\\\\\\\\\\\\\\\\\\\\\\\\\\\\\\\\\\\\\\\\\\\\\\\\\\\Users\\user\\AppData\\Local\\JuliaPro-0.6.3.1\\pkgs-0.6.3.1\\v0.6\\Compat\\src\\Compat.jl:386\u001b[22m\u001b[22m\n",
      " [6] \u001b[1meventloop\u001b[22m\u001b[22m\u001b[1m(\u001b[22m\u001b[22m::ZMQ.Socket\u001b[1m)\u001b[22m\u001b[22m at \u001b[1mC:\\Users\\user\\AppData\\Local\\JuliaPro-0.6.3.1\\pkgs-0.6.3.1\\v0.6\\IJulia\\src\\eventloop.jl:8\u001b[22m\u001b[22m\n",
      " [7] \u001b[1m(::IJulia.##14#17)\u001b[22m\u001b[22m\u001b[1m(\u001b[22m\u001b[22m\u001b[1m)\u001b[22m\u001b[22m at \u001b[1m.\\task.jl:335\u001b[22m\u001b[22m\n",
      "while loading In[39], in expression starting on line 3\n"
     ]
    },
    {
     "data": {
      "text/plain": [
       "1-element Array{PyCall.PyObject,1}:\n",
       " PyObject <matplotlib.lines.Line2D object at 0x0000000050523470>"
      ]
     },
     "execution_count": 39,
     "metadata": {},
     "output_type": "execute_result"
    }
   ],
   "source": [
    "laplace_dist = Truncated(Laplace(0, 2), -50, 50)\n",
    "sx = linspace(laplace_dist.lower, laplace_dist.upper, 10000)\n",
    "sy = pdf(laplace_dist, sx)\n",
    "plot(sx, sy)"
   ]
  },
  {
   "cell_type": "code",
   "execution_count": 42,
   "metadata": {},
   "outputs": [
    {
     "data": {
      "text/plain": [
       "histogram_from_sample (generic function with 1 method)"
      ]
     },
     "execution_count": 42,
     "metadata": {},
     "output_type": "execute_result"
    }
   ],
   "source": [
    "function histogram_from_sample(samples, domain_dim)\n",
    "    @assert 0 <= minimum(samples)\n",
    "    @assert maximum(samples) <= 1\n",
    "    ones_array = ones(Int64, size(domain_dim))\n",
    "    histogram_size = prod(domain_dim)\n",
    "    h = zeros(Int64, Tuple(domain_dim))\n",
    "    for x in round.(Int64, samples*histogram_size)\n",
    "        @inbounds h[x+ones_array] += 1\n",
    "    end\n",
    "    collect(1:histogram_size)/histogram_size, h[:]\n",
    "end"
   ]
  },
  {
   "cell_type": "code",
   "execution_count": 20,
   "metadata": {},
   "outputs": [
    {
     "data": {
      "image/png": "[encoded data removed]",
      "text/plain": [
       "PyPlot.Figure(PyObject <Figure size 640x480 with 1 Axes>)"
      ]
     },
     "metadata": {},
     "output_type": "display_data"
    }
   ],
   "source": [
    "d_continuous = Truncated(MixtureModel(Normal, [(.275, .075), (.65, .1)], [0.65, 0.35]), 0, 1)\n",
    "xs = linspace(d_continuous.lower, d_continuous.upper, 300)\n",
    "ys = pdf.(d_continuous, xs)\n",
    "plot(xs, ys);"
   ]
  },
  {
   "cell_type": "code",
   "execution_count": 45,
   "metadata": {},
   "outputs": [
    {
     "data": {
      "text/plain": [
       "(10000, 2)"
      ]
     },
     "execution_count": 45,
     "metadata": {},
     "output_type": "execute_result"
    }
   ],
   "source": [
    "num_samples = 10\n",
    "domain_size = [10 10 10]\n",
    "samples = [rand(d_continuous, num_samples) rand(d_continuous, num_samples) rand(d_continuous, num_samples)]\n",
    "size(samples)"
   ]
  },
  {
   "cell_type": "code",
   "execution_count": null,
   "metadata": {},
   "outputs": [],
   "source": [
    "xs, ys = histogram_from_sample(samples, domain_size)\n",
    "bar(xs, ys, width=1/prod(domain_size));"
   ]
  }
 ],
 "metadata": {
  "kernelspec": {
   "display_name": "Julia 0.6.3",
   "language": "julia",
   "name": "julia-0.6"
  },
  "language_info": {
   "file_extension": ".jl",
   "mimetype": "application/julia",
   "name": "julia",
   "version": "0.6.3"
  }
 },
 "nbformat": 4,
 "nbformat_minor": 2
}
